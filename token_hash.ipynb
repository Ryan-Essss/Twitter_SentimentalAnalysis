{
  "nbformat": 4,
  "nbformat_minor": 0,
  "metadata": {
    "colab": {
      "name": "working_setup.ipynb",
      "provenance": [],
      "collapsed_sections": [],
      "authorship_tag": "ABX9TyP+DRCnXe4SoczxoO7YGLWT",
      "include_colab_link": true
    },
    "kernelspec": {
      "name": "python3",
      "display_name": "Python 3"
    },
    "language_info": {
      "name": "python"
    }
  },
  "cells": [
    {
      "cell_type": "markdown",
      "metadata": {
        "id": "view-in-github",
        "colab_type": "text"
      },
      "source": [
        "<a href=\"https://colab.research.google.com/github/aashitarakesh/Twitter_Analysis/blob/main/token_hash.ipynb\" target=\"_parent\"><img src=\"https://colab.research.google.com/assets/colab-badge.svg\" alt=\"Open In Colab\"/></a>"
      ]
    },
    {
      "cell_type": "code",
      "metadata": {
        "id": "SreK9tZ1Wnrf",
        "colab": {
          "base_uri": "https://localhost:8080/"
        },
        "outputId": "37559591-f896-42b8-93a1-e4a7f3976fbd"
      },
      "source": [
        "import os\n",
        "import pandas as pd\n",
        "from google.colab import files\n",
        "# Find the latest version of spark 3.0  from http://www-us.apache.org/dist/spark/ and enter as the spark version\n",
        "# For example:\n",
        "# spark_version = 'spark-3.0.2'\n",
        "spark_version = 'spark-3.0.2'\n",
        "os.environ['SPARK_VERSION']=spark_version\n",
        "\n",
        "# Install Spark and Java\n",
        "!apt-get update\n",
        "!apt-get install openjdk-11-jdk-headless -qq > /dev/null\n",
        "!wget -q http://www-us.apache.org/dist/spark/$SPARK_VERSION/$SPARK_VERSION-bin-hadoop2.7.tgz\n",
        "!tar xf $SPARK_VERSION-bin-hadoop2.7.tgz\n",
        "!pip install -q findspark\n",
        "\n",
        "# Set Environment Variables\n",
        "os.environ[\"JAVA_HOME\"] = \"/usr/lib/jvm/java-11-openjdk-amd64\"\n",
        "os.environ[\"SPARK_HOME\"] = f\"/content/{spark_version}-bin-hadoop2.7\"\n",
        "\n",
        "# Start a SparkSession\n",
        "import findspark\n",
        "findspark.init()"
      ],
      "execution_count": 1,
      "outputs": [
        {
          "output_type": "stream",
          "text": [
            "Get:1 https://cloud.r-project.org/bin/linux/ubuntu bionic-cran40/ InRelease [3,626 B]\n",
            "Ign:2 https://developer.download.nvidia.com/compute/cuda/repos/ubuntu1804/x86_64  InRelease\n",
            "Get:3 http://security.ubuntu.com/ubuntu bionic-security InRelease [88.7 kB]\n",
            "Get:4 https://cloud.r-project.org/bin/linux/ubuntu bionic-cran40/ Packages [61.8 kB]\n",
            "Ign:5 https://developer.download.nvidia.com/compute/machine-learning/repos/ubuntu1804/x86_64  InRelease\n",
            "Get:6 https://developer.download.nvidia.com/compute/cuda/repos/ubuntu1804/x86_64  Release [697 B]\n",
            "Hit:7 https://developer.download.nvidia.com/compute/machine-learning/repos/ubuntu1804/x86_64  Release\n",
            "Get:8 http://ppa.launchpad.net/c2d4u.team/c2d4u4.0+/ubuntu bionic InRelease [15.9 kB]\n",
            "Get:9 https://developer.download.nvidia.com/compute/cuda/repos/ubuntu1804/x86_64  Release.gpg [836 B]\n",
            "Hit:11 http://archive.ubuntu.com/ubuntu bionic InRelease\n",
            "Get:12 http://archive.ubuntu.com/ubuntu bionic-updates InRelease [88.7 kB]\n",
            "Ign:13 https://developer.download.nvidia.com/compute/cuda/repos/ubuntu1804/x86_64  Packages\n",
            "Get:13 https://developer.download.nvidia.com/compute/cuda/repos/ubuntu1804/x86_64  Packages [800 kB]\n",
            "Hit:14 http://ppa.launchpad.net/cran/libgit2/ubuntu bionic InRelease\n",
            "Get:15 http://ppa.launchpad.net/deadsnakes/ppa/ubuntu bionic InRelease [15.9 kB]\n",
            "Get:16 http://security.ubuntu.com/ubuntu bionic-security/restricted amd64 Packages [450 kB]\n",
            "Get:17 http://archive.ubuntu.com/ubuntu bionic-backports InRelease [74.6 kB]\n",
            "Get:18 http://archive.ubuntu.com/ubuntu bionic-updates/universe amd64 Packages [2,184 kB]\n",
            "Hit:19 http://ppa.launchpad.net/graphics-drivers/ppa/ubuntu bionic InRelease\n",
            "Get:20 http://security.ubuntu.com/ubuntu bionic-security/universe amd64 Packages [1,414 kB]\n",
            "Get:21 http://security.ubuntu.com/ubuntu bionic-security/main amd64 Packages [2,184 kB]\n",
            "Get:22 http://ppa.launchpad.net/c2d4u.team/c2d4u4.0+/ubuntu bionic/main Sources [1,770 kB]\n",
            "Get:23 http://archive.ubuntu.com/ubuntu bionic-updates/main amd64 Packages [2,616 kB]\n",
            "Get:24 http://archive.ubuntu.com/ubuntu bionic-updates/restricted amd64 Packages [480 kB]\n",
            "Get:25 http://archive.ubuntu.com/ubuntu bionic-updates/multiverse amd64 Packages [33.5 kB]\n",
            "Get:26 http://ppa.launchpad.net/c2d4u.team/c2d4u4.0+/ubuntu bionic/main amd64 Packages [906 kB]\n",
            "Get:27 http://ppa.launchpad.net/deadsnakes/ppa/ubuntu bionic/main amd64 Packages [40.9 kB]\n",
            "Fetched 13.2 MB in 7s (1,827 kB/s)\n",
            "Reading package lists... Done\n"
          ],
          "name": "stdout"
        }
      ]
    },
    {
      "cell_type": "code",
      "metadata": {
        "id": "O3go-2DKcb97"
      },
      "source": [
        "# Start Spark session\n",
        "from pyspark.sql import SparkSession\n",
        "spark = SparkSession.builder.appName(\"alpha_to_numeric\").getOrCreate()"
      ],
      "execution_count": 2,
      "outputs": []
    },
    {
      "cell_type": "code",
      "metadata": {
        "id": "fLSoU87ply94"
      },
      "source": [
        "# # loads data from google drive\n",
        "\n",
        "# from google.colab import drive\n",
        "# drive.mount(\"/content/gdrive\")\n",
        "\n",
        "# pd.read_csv('/content/gdrive/My Drive/UPenn Data Analytics/UPenn Data/')"
      ],
      "execution_count": null,
      "outputs": []
    },
    {
      "cell_type": "code",
      "metadata": {
        "id": "faQ99lqNceP3"
      },
      "source": [
        "# # import data from local system\n",
        "\n",
        "# from google.colab import files\n",
        "# uploaded = files.upload()\n",
        "# pd.read_csv(\"\")"
      ],
      "execution_count": null,
      "outputs": []
    },
    {
      "cell_type": "code",
      "metadata": {
        "id": "bidQpthuWzK8"
      },
      "source": [
        "# # import file from github\n",
        "\n",
        "# from pyspark import SparkFiles\n",
        "\n",
        "# url = 'https://raw.githubusercontent.com/aashitarakesh/Twitter_Analysis/main/sentiment_twitter_clean.csv'\n",
        "# spark.sparkContext.addFile(url)\n",
        "# df = spark.read.csv(SparkFiles.get(\"sentiment_twitter_clean.csv\"), sep=\",\", header=True)\n",
        "\n",
        "# # Show DataFrame\n",
        "# df.show()\n"
      ],
      "execution_count": null,
      "outputs": []
    },
    {
      "cell_type": "code",
      "metadata": {
        "colab": {
          "base_uri": "https://localhost:8080/"
        },
        "id": "7mJZ5CsRfASh",
        "outputId": "ee56a2a8-b444-448b-f86e-0c03dd232527"
      },
      "source": [
        "# import file from github\n",
        "\n",
        "from pyspark import SparkFiles\n",
        "\n",
        "url = 'https://raw.githubusercontent.com/aashitarakesh/Twitter_Analysis/main/sentiment_twitter_clean.csv'\n",
        "spark.sparkContext.addFile(url)\n",
        "df = spark.read.csv(SparkFiles.get(\"sentiment_twitter_clean.csv\"), sep=\",\", header=True)\n",
        "\n",
        "# Show DataFrame\n",
        "df.show()\n"
      ],
      "execution_count": 3,
      "outputs": [
        {
          "output_type": "stream",
          "text": [
            "+-----+--------------------+-----+\n",
            "|Index|              Tweets|Label|\n",
            "+-----+--------------------+-----+\n",
            "|  106|real good moment ...|    0|\n",
            "|  217|       reading manga|    0|\n",
            "|  288|need send em acco...|    0|\n",
            "|  540|add myspace myspa...|    0|\n",
            "|  624|sleepy good times...|    0|\n",
            "|  701|nbn someone alrea...|    0|\n",
            "|  808|23 24ï½c possible...|    0|\n",
            "| 1193|nite twitterville...|    0|\n",
            "| 1324|night darlin swee...|    0|\n",
            "| 1332|good morning ever...|    0|\n",
            "| 1368|finally created w...|    0|\n",
            "| 1578|kisha cnt get u t...|    0|\n",
            "| 1595|yes remember band...|    0|\n",
            "| 1861|really love refle...|    0|\n",
            "| 1889|ooo fantasy like ...|    0|\n",
            "| 1899|probs sell nothin...|    0|\n",
            "| 1919|quotnokla connect...|    0|\n",
            "| 1992|stayed late start...|    0|\n",
            "| 2097|read new job cong...|    0|\n",
            "| 2126|havent able sleep...|    0|\n",
            "+-----+--------------------+-----+\n",
            "only showing top 20 rows\n",
            "\n"
          ],
          "name": "stdout"
        }
      ]
    },
    {
      "cell_type": "code",
      "metadata": {
        "id": "1h6nwr4qXkT1"
      },
      "source": [
        "# # Drop all rows with missing information\n",
        "# df = df.dropna(how='any')\n"
      ],
      "execution_count": 15,
      "outputs": []
    },
    {
      "cell_type": "code",
      "metadata": {
        "id": "W3d-76d9jbfd",
        "colab": {
          "base_uri": "https://localhost:8080/"
        },
        "outputId": "db17a5ec-7501-4349-b8a9-2833185b06dd"
      },
      "source": [
        "# # Verify dropped rows\n",
        "# df.count()\n",
        "df"
      ],
      "execution_count": 4,
      "outputs": [
        {
          "output_type": "execute_result",
          "data": {
            "text/plain": [
              "DataFrame[Index: string, Tweets: string, Label: string]"
            ]
          },
          "metadata": {
            "tags": []
          },
          "execution_count": 4
        }
      ]
    },
    {
      "cell_type": "code",
      "metadata": {
        "id": "O5eeNcfNXnti",
        "colab": {
          "base_uri": "https://localhost:8080/"
        },
        "outputId": "410d620a-1e30-4679-a149-24c772bad68c"
      },
      "source": [
        "from pyspark.sql.functions import length\n",
        "# Create a length column to be used as a future feature \n",
        "data_df = df.withColumn('length', length(df['Tweets']))\n",
        "data_df.show()"
      ],
      "execution_count": 5,
      "outputs": [
        {
          "output_type": "stream",
          "text": [
            "+-----+--------------------+-----+------+\n",
            "|Index|              Tweets|Label|length|\n",
            "+-----+--------------------+-----+------+\n",
            "|  106|real good moment ...|    0|    34|\n",
            "|  217|       reading manga|    0|    13|\n",
            "|  288|need send em acco...|    0|    92|\n",
            "|  540|add myspace myspa...|    0|    33|\n",
            "|  624|sleepy good times...|    0|    32|\n",
            "|  701|nbn someone alrea...|    0|    54|\n",
            "|  808|23 24ï½c possible...|    0|    28|\n",
            "| 1193|nite twitterville...|    0|    30|\n",
            "| 1324|night darlin swee...|    0|    25|\n",
            "| 1332|good morning ever...|    0|    22|\n",
            "| 1368|finally created w...|    0|    75|\n",
            "| 1578|kisha cnt get u t...|    0|    45|\n",
            "| 1595|yes remember band...|    0|    38|\n",
            "| 1861|really love refle...|    0|    31|\n",
            "| 1889|ooo fantasy like ...|    0|    37|\n",
            "| 1899|probs sell nothin...|    0|    50|\n",
            "| 1919|quotnokla connect...|    0|    31|\n",
            "| 1992|stayed late start...|    0|    43|\n",
            "| 2097|read new job cong...|    0|    44|\n",
            "| 2126|havent able sleep...|    0|    51|\n",
            "+-----+--------------------+-----+------+\n",
            "only showing top 20 rows\n",
            "\n"
          ],
          "name": "stdout"
        }
      ]
    },
    {
      "cell_type": "code",
      "metadata": {
        "id": "0txfyoqdX32S"
      },
      "source": [
        "from pyspark.ml.feature import Tokenizer, StopWordsRemover, HashingTF, IDF, StringIndexer\n",
        "# Create all the features to the data set\n",
        "pos_neg_to_num = StringIndexer(inputCol='Label',outputCol='label')\n",
        "tokenizer = Tokenizer(inputCol=\"Tweets\", outputCol=\"token_text\")\n",
        "stopremove = StopWordsRemover(inputCol='token_text',outputCol='stop_tokens')\n",
        "hashingTF = HashingTF(inputCol=\"stop_tokens\", outputCol='hash_token')\n",
        "idf = IDF(inputCol='hash_token', outputCol='idf_token')"
      ],
      "execution_count": 6,
      "outputs": []
    },
    {
      "cell_type": "code",
      "metadata": {
        "id": "YLT1ASpTc7ST"
      },
      "source": [
        "from pyspark.ml.feature import VectorAssembler\n",
        "from pyspark.ml.linalg import Vector\n",
        "\n",
        "# Create feature vectors\n",
        "clean_up = VectorAssembler(inputCols=['idf_token', 'length'], outputCol='features')"
      ],
      "execution_count": 7,
      "outputs": []
    },
    {
      "cell_type": "code",
      "metadata": {
        "id": "8W3vFJ6oZRcV"
      },
      "source": [
        "# Create a and run a data processing Pipeline\n",
        "from pyspark.ml import Pipeline\n",
        "data_prep_pipeline = Pipeline(stages=[pos_neg_to_num, tokenizer, stopremove, hashingTF, idf, clean_up])"
      ],
      "execution_count": 8,
      "outputs": []
    },
    {
      "cell_type": "code",
      "metadata": {
        "id": "Jzk8DNxmZbtU"
      },
      "source": [
        "# Fit and transform the pipeline\n",
        "cleaner = data_prep_pipeline.fit(data_df)\n",
        "cleaned = cleaner.transform(data_df)\n"
      ],
      "execution_count": 9,
      "outputs": []
    },
    {
      "cell_type": "code",
      "metadata": {
        "colab": {
          "base_uri": "https://localhost:8080/"
        },
        "id": "cE2qRpkTUVax",
        "outputId": "005c8623-d62f-4f9e-fa24-4f2e48f83f60"
      },
      "source": [
        "cleaned"
      ],
      "execution_count": null,
      "outputs": [
        {
          "output_type": "execute_result",
          "data": {
            "text/plain": [
              "DataFrame[Index: string, Tweets: string, Label: string, tokenized_tweets: string, length: int, new_label: double, token_text: array<string>, stop_tokens: array<string>, hash_token: vector, idf_token: vector, features: vector]"
            ]
          },
          "metadata": {
            "tags": []
          },
          "execution_count": 21
        }
      ]
    },
    {
      "cell_type": "code",
      "metadata": {
        "id": "CSzKdXP0ZdMz",
        "colab": {
          "base_uri": "https://localhost:8080/"
        },
        "outputId": "e31bf2a0-5f40-4be9-d17b-461e3531b962"
      },
      "source": [
        "# Show label and resulting features\n",
        "cleaned.select(['label', 'features']).show()"
      ],
      "execution_count": 10,
      "outputs": [
        {
          "output_type": "stream",
          "text": [
            "+-----+--------------------+\n",
            "|label|            features|\n",
            "+-----+--------------------+\n",
            "|  0.0|(262145,[76764,11...|\n",
            "|  0.0|(262145,[41314,12...|\n",
            "|  0.0|(262145,[942,2032...|\n",
            "|  0.0|(262145,[48063,98...|\n",
            "|  0.0|(262145,[73853,11...|\n",
            "|  0.0|(262145,[2306,178...|\n",
            "|  0.0|(262145,[22346,44...|\n",
            "|  0.0|(262145,[62166,93...|\n",
            "|  0.0|(262145,[88594,15...|\n",
            "|  0.0|(262145,[113432,1...|\n",
            "|  0.0|(262145,[2306,762...|\n",
            "|  0.0|(262145,[18176,51...|\n",
            "|  0.0|(262145,[14118,42...|\n",
            "|  0.0|(262145,[186480,2...|\n",
            "|  0.0|(262145,[13823,12...|\n",
            "|  0.0|(262145,[14118,16...|\n",
            "|  0.0|(262145,[93523,10...|\n",
            "|  0.0|(262145,[16004,68...|\n",
            "|  0.0|(262145,[10345,53...|\n",
            "|  0.0|(262145,[9657,506...|\n",
            "+-----+--------------------+\n",
            "only showing top 20 rows\n",
            "\n"
          ],
          "name": "stdout"
        }
      ]
    },
    {
      "cell_type": "code",
      "metadata": {
        "id": "AEx8VwihrynT",
        "colab": {
          "base_uri": "https://localhost:8080/"
        },
        "outputId": "ce581018-ade7-4336-d607-5a2332347426"
      },
      "source": [
        "final_df = cleaned.select(['label', 'features']).show()\n",
        "final_df"
      ],
      "execution_count": 16,
      "outputs": [
        {
          "output_type": "stream",
          "text": [
            "+-----+--------------------+\n",
            "|label|            features|\n",
            "+-----+--------------------+\n",
            "|  0.0|(262145,[76764,11...|\n",
            "|  0.0|(262145,[41314,12...|\n",
            "|  0.0|(262145,[942,2032...|\n",
            "|  0.0|(262145,[48063,98...|\n",
            "|  0.0|(262145,[73853,11...|\n",
            "|  0.0|(262145,[2306,178...|\n",
            "|  0.0|(262145,[22346,44...|\n",
            "|  0.0|(262145,[62166,93...|\n",
            "|  0.0|(262145,[88594,15...|\n",
            "|  0.0|(262145,[113432,1...|\n",
            "|  0.0|(262145,[2306,762...|\n",
            "|  0.0|(262145,[18176,51...|\n",
            "|  0.0|(262145,[14118,42...|\n",
            "|  0.0|(262145,[186480,2...|\n",
            "|  0.0|(262145,[13823,12...|\n",
            "|  0.0|(262145,[14118,16...|\n",
            "|  0.0|(262145,[93523,10...|\n",
            "|  0.0|(262145,[16004,68...|\n",
            "|  0.0|(262145,[10345,53...|\n",
            "|  0.0|(262145,[9657,506...|\n",
            "+-----+--------------------+\n",
            "only showing top 20 rows\n",
            "\n"
          ],
          "name": "stdout"
        }
      ]
    },
    {
      "cell_type": "code",
      "metadata": {
        "colab": {
          "base_uri": "https://localhost:8080/",
          "height": 243
        },
        "id": "Z3N8lITZRtL9",
        "outputId": "56a943a5-c3bd-4093-db20-b98fe78f3e25"
      },
      "source": [
        "# final_df.toPandas().to_csv('test.csv')\n",
        "# final_df.write.csv('test.csv')\n",
        "\n",
        "final_df.coalesce(1).write.format(\"https://raw.githubusercontent.com/aashitarakesh/Twitter_Analysis/main\").option(\"header\", \"true\").save(\"test.csv\")"
      ],
      "execution_count": 19,
      "outputs": [
        {
          "output_type": "error",
          "ename": "AttributeError",
          "evalue": "ignored",
          "traceback": [
            "\u001b[0;31m---------------------------------------------------------------------------\u001b[0m",
            "\u001b[0;31mAttributeError\u001b[0m                            Traceback (most recent call last)",
            "\u001b[0;32m<ipython-input-19-f76e18e40488>\u001b[0m in \u001b[0;36m<module>\u001b[0;34m()\u001b[0m\n\u001b[1;32m      2\u001b[0m \u001b[0;31m# final_df.write.csv('test.csv')\u001b[0m\u001b[0;34m\u001b[0m\u001b[0;34m\u001b[0m\u001b[0;34m\u001b[0m\u001b[0m\n\u001b[1;32m      3\u001b[0m \u001b[0;34m\u001b[0m\u001b[0m\n\u001b[0;32m----> 4\u001b[0;31m \u001b[0mfinal_df\u001b[0m\u001b[0;34m.\u001b[0m\u001b[0mcoalesce\u001b[0m\u001b[0;34m(\u001b[0m\u001b[0;36m1\u001b[0m\u001b[0;34m)\u001b[0m\u001b[0;34m.\u001b[0m\u001b[0mwrite\u001b[0m\u001b[0;34m.\u001b[0m\u001b[0mformat\u001b[0m\u001b[0;34m(\u001b[0m\u001b[0;34m\"https://raw.githubusercontent.com/aashitarakesh/Twitter_Analysis/main\"\u001b[0m\u001b[0;34m)\u001b[0m\u001b[0;34m.\u001b[0m\u001b[0moption\u001b[0m\u001b[0;34m(\u001b[0m\u001b[0;34m\"header\"\u001b[0m\u001b[0;34m,\u001b[0m \u001b[0;34m\"true\"\u001b[0m\u001b[0;34m)\u001b[0m\u001b[0;34m.\u001b[0m\u001b[0msave\u001b[0m\u001b[0;34m(\u001b[0m\u001b[0;34m\"test.csv\"\u001b[0m\u001b[0;34m)\u001b[0m\u001b[0;34m\u001b[0m\u001b[0;34m\u001b[0m\u001b[0m\n\u001b[0m",
            "\u001b[0;31mAttributeError\u001b[0m: 'NoneType' object has no attribute 'coalesce'"
          ]
        }
      ]
    },
    {
      "cell_type": "code",
      "metadata": {
        "id": "mLJlMsDBZlvL",
        "colab": {
          "base_uri": "https://localhost:8080/",
          "height": 288
        },
        "outputId": "2b7aaa3f-ccb9-450d-e0ba-e6ebec5b20de"
      },
      "source": [
        ""
      ],
      "execution_count": null,
      "outputs": [
        {
          "output_type": "error",
          "ename": "FileNotFoundError",
          "evalue": "ignored",
          "traceback": [
            "\u001b[0;31m---------------------------------------------------------------------------\u001b[0m",
            "\u001b[0;31mFileNotFoundError\u001b[0m                         Traceback (most recent call last)",
            "\u001b[0;32m<ipython-input-46-8f2d82d56b4e>\u001b[0m in \u001b[0;36m<module>\u001b[0;34m()\u001b[0m\n\u001b[1;32m      1\u001b[0m \u001b[0;32mfrom\u001b[0m \u001b[0mgoogle\u001b[0m\u001b[0;34m.\u001b[0m\u001b[0mcolab\u001b[0m \u001b[0;32mimport\u001b[0m \u001b[0mfiles\u001b[0m\u001b[0;34m\u001b[0m\u001b[0;34m\u001b[0m\u001b[0m\n\u001b[0;32m----> 2\u001b[0;31m \u001b[0mfiles\u001b[0m\u001b[0;34m.\u001b[0m\u001b[0mdownload\u001b[0m\u001b[0;34m(\u001b[0m\u001b[0;34m\"final_csv\"\u001b[0m\u001b[0;34m)\u001b[0m\u001b[0;34m\u001b[0m\u001b[0;34m\u001b[0m\u001b[0m\n\u001b[0m",
            "\u001b[0;32m/usr/local/lib/python3.7/dist-packages/google/colab/files.py\u001b[0m in \u001b[0;36mdownload\u001b[0;34m(filename)\u001b[0m\n\u001b[1;32m    141\u001b[0m       \u001b[0;32mraise\u001b[0m \u001b[0mOSError\u001b[0m\u001b[0;34m(\u001b[0m\u001b[0mmsg\u001b[0m\u001b[0;34m)\u001b[0m\u001b[0;34m\u001b[0m\u001b[0;34m\u001b[0m\u001b[0m\n\u001b[1;32m    142\u001b[0m     \u001b[0;32melse\u001b[0m\u001b[0;34m:\u001b[0m\u001b[0;34m\u001b[0m\u001b[0;34m\u001b[0m\u001b[0m\n\u001b[0;32m--> 143\u001b[0;31m       \u001b[0;32mraise\u001b[0m \u001b[0mFileNotFoundError\u001b[0m\u001b[0;34m(\u001b[0m\u001b[0mmsg\u001b[0m\u001b[0;34m)\u001b[0m  \u001b[0;31m# pylint: disable=undefined-variable\u001b[0m\u001b[0;34m\u001b[0m\u001b[0;34m\u001b[0m\u001b[0m\n\u001b[0m\u001b[1;32m    144\u001b[0m \u001b[0;34m\u001b[0m\u001b[0m\n\u001b[1;32m    145\u001b[0m   \u001b[0mcomm_manager\u001b[0m \u001b[0;34m=\u001b[0m \u001b[0m_IPython\u001b[0m\u001b[0;34m.\u001b[0m\u001b[0mget_ipython\u001b[0m\u001b[0;34m(\u001b[0m\u001b[0;34m)\u001b[0m\u001b[0;34m.\u001b[0m\u001b[0mkernel\u001b[0m\u001b[0;34m.\u001b[0m\u001b[0mcomm_manager\u001b[0m\u001b[0;34m\u001b[0m\u001b[0;34m\u001b[0m\u001b[0m\n",
            "\u001b[0;31mFileNotFoundError\u001b[0m: Cannot find file: final_csv"
          ]
        }
      ]
    },
    {
      "cell_type": "code",
      "metadata": {
        "id": "Vt52mwhzZnBO"
      },
      "source": [
        ""
      ],
      "execution_count": null,
      "outputs": []
    }
  ]
}