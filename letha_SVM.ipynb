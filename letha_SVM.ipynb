{
 "cells": [
  {
   "cell_type": "code",
   "execution_count": 1,
   "metadata": {},
   "outputs": [],
   "source": [
    "# Dependencies and Setup\n",
    "import numpy as np\n",
    "import pandas as pd \n",
    "import matplotlib.pyplot as plt \n",
    "import re\n",
    "from wordcloud import WordCloud, STOPWORDS, ImageColorGenerator\n",
    "import matplotlib.pyplot as plt\n",
    "from sklearn.datasets import load_iris\n",
    "from sklearn.model_selection import train_test_split\n",
    "from sklearn.neighbors import KNeighborsClassifier"
   ]
  },
  {
   "cell_type": "code",
   "execution_count": 5,
   "metadata": {},
   "outputs": [
    {
     "data": {
      "text/html": [
       "<div>\n",
       "<style scoped>\n",
       "    .dataframe tbody tr th:only-of-type {\n",
       "        vertical-align: middle;\n",
       "    }\n",
       "\n",
       "    .dataframe tbody tr th {\n",
       "        vertical-align: top;\n",
       "    }\n",
       "\n",
       "    .dataframe thead th {\n",
       "        text-align: right;\n",
       "    }\n",
       "</style>\n",
       "<table border=\"1\" class=\"dataframe\">\n",
       "  <thead>\n",
       "    <tr style=\"text-align: right;\">\n",
       "      <th></th>\n",
       "      <th>Index</th>\n",
       "      <th>Tweets</th>\n",
       "      <th>Label</th>\n",
       "    </tr>\n",
       "  </thead>\n",
       "  <tbody>\n",
       "    <tr>\n",
       "      <th>0</th>\n",
       "      <td>106</td>\n",
       "      <td>real good moment missssssssss much</td>\n",
       "      <td>0</td>\n",
       "    </tr>\n",
       "    <tr>\n",
       "      <th>1</th>\n",
       "      <td>217</td>\n",
       "      <td>reading manga</td>\n",
       "      <td>0</td>\n",
       "    </tr>\n",
       "    <tr>\n",
       "      <th>2</th>\n",
       "      <td>288</td>\n",
       "      <td>need send em accountant tomorrow oddly wasnt e...</td>\n",
       "      <td>0</td>\n",
       "    </tr>\n",
       "    <tr>\n",
       "      <th>3</th>\n",
       "      <td>540</td>\n",
       "      <td>add myspace myspacecomlookthunder</td>\n",
       "      <td>0</td>\n",
       "    </tr>\n",
       "    <tr>\n",
       "      <th>4</th>\n",
       "      <td>624</td>\n",
       "      <td>sleepy good times tonight though</td>\n",
       "      <td>0</td>\n",
       "    </tr>\n",
       "  </tbody>\n",
       "</table>\n",
       "</div>"
      ],
      "text/plain": [
       "   Index                                             Tweets  Label\n",
       "0    106                 real good moment missssssssss much      0\n",
       "1    217                                      reading manga      0\n",
       "2    288  need send em accountant tomorrow oddly wasnt e...      0\n",
       "3    540                  add myspace myspacecomlookthunder      0\n",
       "4    624                   sleepy good times tonight though      0"
      ]
     },
     "execution_count": 5,
     "metadata": {},
     "output_type": "execute_result"
    }
   ],
   "source": [
    "#Save the clean twitter csv\n",
    "Twitter_df = pd.read_csv(\"Data/sentiment_twitter_clean.csv\")\n",
    "Twitter_df.head()"
   ]
  },
  {
   "cell_type": "code",
   "execution_count": 6,
   "metadata": {},
   "outputs": [],
   "source": [
    "#vectorize it\n",
    "from sklearn.feature_extraction.text import CountVectorizer\n",
    "vectorizer = CountVectorizer()\n",
    "X = vectorizer.fit_transform(Twitter_df['Tweets'])\n",
    "y=Twitter_df.Label"
   ]
  },
  {
   "cell_type": "code",
   "execution_count": 7,
   "metadata": {},
   "outputs": [],
   "source": [
    "# Use train_test_split to create training and testing data\n",
    "from sklearn.model_selection import train_test_split\n",
    "\n",
    "# splitting data into training and validation set\n",
    "X_train, X_test, y_train, y_test = train_test_split(X, y,test_size=0.3, random_state=2)"
   ]
  },
  {
   "cell_type": "markdown",
   "metadata": {},
   "source": [
    "# Train the Model"
   ]
  },
  {
   "cell_type": "code",
   "execution_count": 8,
   "metadata": {},
   "outputs": [
    {
     "data": {
      "text/plain": [
       "SVC(kernel='linear')"
      ]
     },
     "execution_count": 8,
     "metadata": {},
     "output_type": "execute_result"
    }
   ],
   "source": [
    "# Fit to the training data and validate with the test data\n",
    "from sklearn.svm import SVC\n",
    "model = SVC(kernel='linear')\n",
    "model.fit(X_train, y_train)"
   ]
  },
  {
   "cell_type": "markdown",
   "metadata": {},
   "source": [
    "#### Make prediction"
   ]
  },
  {
   "cell_type": "code",
   "execution_count": null,
   "metadata": {},
   "outputs": [],
   "source": [
    "predictions = model.predict(X_test)\n",
    "print(f\"First 10 Prediction: {predictions[:10]}\")\n",
    "print(f\"First 10 Actual label: {y_test[:10].tolist()}\")"
   ]
  },
  {
   "cell_type": "code",
   "execution_count": 9,
   "metadata": {},
   "outputs": [
    {
     "name": "stdout",
     "output_type": "stream",
     "text": [
      "Training Data Score: 0.9994442900805779\n",
      "Testing Data Score: 0.9912479740680713\n"
     ]
    }
   ],
   "source": [
    "print(f\"Training Data Score: {model.score(X_train, y_train)}\")\n",
    "print(f\"Testing Data Score: {model.score(X_test, y_test)}\")"
   ]
  },
  {
   "cell_type": "markdown",
   "metadata": {},
   "source": [
    "# Hyperparameter Tuning"
   ]
  },
  {
   "cell_type": "markdown",
   "metadata": {},
   "source": [
    "Use GridSearchCV to tune the model's parameters"
   ]
  },
  {
   "cell_type": "code",
   "execution_count": 10,
   "metadata": {},
   "outputs": [],
   "source": [
    "# Create the GridSearchCV model\n",
    "# Create the GridSearch estimator along with a parameter object containing the values to adjust\n",
    "from sklearn.model_selection import GridSearchCV\n",
    "param_grid = {'C': [1, 5, 10],\n",
    "              'gamma': [0.0001, 0.001, 0.01]}\n",
    "grid = GridSearchCV(model, param_grid, verbose=3)"
   ]
  },
  {
   "cell_type": "code",
   "execution_count": 11,
   "metadata": {},
   "outputs": [],
   "source": [
    "from sklearn.preprocessing import StandardScaler\n",
    "X_scaler = StandardScaler(with_mean=False).fit(X_train)"
   ]
  },
  {
   "cell_type": "code",
   "execution_count": 12,
   "metadata": {},
   "outputs": [],
   "source": [
    "# Transform the training and testing data using the X_scaler and y_scaler models\n",
    "\n",
    "X_train_scaled = X_scaler.transform(X_train)\n",
    "X_test_scaled = X_scaler.transform(X_test)"
   ]
  },
  {
   "cell_type": "code",
   "execution_count": 13,
   "metadata": {},
   "outputs": [
    {
     "name": "stdout",
     "output_type": "stream",
     "text": [
      "Fitting 5 folds for each of 9 candidates, totalling 45 fits\n",
      "[CV 1/5] END ..............................C=1, gamma=0.0001; total time=   1.6s\n",
      "[CV 2/5] END ..............................C=1, gamma=0.0001; total time=   1.9s\n",
      "[CV 3/5] END ..............................C=1, gamma=0.0001; total time=   1.8s\n",
      "[CV 4/5] END ..............................C=1, gamma=0.0001; total time=   1.5s\n",
      "[CV 5/5] END ..............................C=1, gamma=0.0001; total time=   1.7s\n",
      "[CV 1/5] END ...............................C=1, gamma=0.001; total time=   1.6s\n",
      "[CV 2/5] END ...............................C=1, gamma=0.001; total time=   1.6s\n",
      "[CV 3/5] END ...............................C=1, gamma=0.001; total time=   1.6s\n",
      "[CV 4/5] END ...............................C=1, gamma=0.001; total time=   1.5s\n",
      "[CV 5/5] END ...............................C=1, gamma=0.001; total time=   1.5s\n",
      "[CV 1/5] END ................................C=1, gamma=0.01; total time=   1.5s\n",
      "[CV 2/5] END ................................C=1, gamma=0.01; total time=   1.6s\n",
      "[CV 3/5] END ................................C=1, gamma=0.01; total time=   1.6s\n",
      "[CV 4/5] END ................................C=1, gamma=0.01; total time=   1.7s\n",
      "[CV 5/5] END ................................C=1, gamma=0.01; total time=   1.5s\n",
      "[CV 1/5] END ..............................C=5, gamma=0.0001; total time=   1.5s\n",
      "[CV 2/5] END ..............................C=5, gamma=0.0001; total time=   1.6s\n",
      "[CV 3/5] END ..............................C=5, gamma=0.0001; total time=   1.5s\n",
      "[CV 4/5] END ..............................C=5, gamma=0.0001; total time=   1.5s\n",
      "[CV 5/5] END ..............................C=5, gamma=0.0001; total time=   1.5s\n",
      "[CV 1/5] END ...............................C=5, gamma=0.001; total time=   1.5s\n",
      "[CV 2/5] END ...............................C=5, gamma=0.001; total time=   1.6s\n",
      "[CV 3/5] END ...............................C=5, gamma=0.001; total time=   1.5s\n",
      "[CV 4/5] END ...............................C=5, gamma=0.001; total time=   1.5s\n",
      "[CV 5/5] END ...............................C=5, gamma=0.001; total time=   1.4s\n",
      "[CV 1/5] END ................................C=5, gamma=0.01; total time=   1.5s\n",
      "[CV 2/5] END ................................C=5, gamma=0.01; total time=   1.6s\n",
      "[CV 3/5] END ................................C=5, gamma=0.01; total time=   1.8s\n",
      "[CV 4/5] END ................................C=5, gamma=0.01; total time=   1.6s\n",
      "[CV 5/5] END ................................C=5, gamma=0.01; total time=   1.8s\n",
      "[CV 1/5] END .............................C=10, gamma=0.0001; total time=   1.8s\n",
      "[CV 2/5] END .............................C=10, gamma=0.0001; total time=   2.2s\n",
      "[CV 3/5] END .............................C=10, gamma=0.0001; total time=   1.6s\n",
      "[CV 4/5] END .............................C=10, gamma=0.0001; total time=   1.5s\n",
      "[CV 5/5] END .............................C=10, gamma=0.0001; total time=   1.6s\n",
      "[CV 1/5] END ..............................C=10, gamma=0.001; total time=   1.8s\n",
      "[CV 2/5] END ..............................C=10, gamma=0.001; total time=   2.0s\n",
      "[CV 3/5] END ..............................C=10, gamma=0.001; total time=   2.1s\n",
      "[CV 4/5] END ..............................C=10, gamma=0.001; total time=   1.6s\n",
      "[CV 5/5] END ..............................C=10, gamma=0.001; total time=   1.8s\n",
      "[CV 1/5] END ...............................C=10, gamma=0.01; total time=   1.7s\n",
      "[CV 2/5] END ...............................C=10, gamma=0.01; total time=   1.7s\n",
      "[CV 3/5] END ...............................C=10, gamma=0.01; total time=   1.9s\n",
      "[CV 4/5] END ...............................C=10, gamma=0.01; total time=   1.9s\n",
      "[CV 5/5] END ...............................C=10, gamma=0.01; total time=   1.6s\n"
     ]
    },
    {
     "data": {
      "text/plain": [
       "GridSearchCV(estimator=SVC(kernel='linear'),\n",
       "             param_grid={'C': [1, 5, 10], 'gamma': [0.0001, 0.001, 0.01]},\n",
       "             verbose=3)"
      ]
     },
     "execution_count": 13,
     "metadata": {},
     "output_type": "execute_result"
    }
   ],
   "source": [
    "# Train the model with GridSearch\n",
    "grid.fit(X_train_scaled, y_train)"
   ]
  },
  {
   "cell_type": "code",
   "execution_count": 14,
   "metadata": {},
   "outputs": [
    {
     "name": "stdout",
     "output_type": "stream",
     "text": [
      "{'C': 1, 'gamma': 0.0001}\n",
      "0.905537506756235\n"
     ]
    }
   ],
   "source": [
    "print(grid.best_params_)\n",
    "print(grid.best_score_)"
   ]
  },
  {
   "cell_type": "markdown",
   "metadata": {},
   "source": [
    "The SVM had a higher accuracy, (0.99). The scores of the hypertuned GridSearch models slightly decreased when compared to the test scores of the regular SVM models."
   ]
  },
  {
   "cell_type": "markdown",
   "metadata": {},
   "source": [
    "# Save the model"
   ]
  },
  {
   "cell_type": "code",
   "execution_count": 15,
   "metadata": {},
   "outputs": [
    {
     "data": {
      "text/plain": [
       "['Data/SVM.sav']"
      ]
     },
     "execution_count": 15,
     "metadata": {},
     "output_type": "execute_result"
    }
   ],
   "source": [
    "import joblib\n",
    "model = 'SVM.sav'\n",
    "joblib.dump(model, 'Data/SVM.sav')"
   ]
  },
  {
   "cell_type": "code",
   "execution_count": null,
   "metadata": {},
   "outputs": [],
   "source": []
  }
 ],
 "metadata": {
  "kernelspec": {
   "display_name": "Python [conda env:PythonAdv] *",
   "language": "python",
   "name": "conda-env-PythonAdv-py"
  },
  "language_info": {
   "codemirror_mode": {
    "name": "ipython",
    "version": 3
   },
   "file_extension": ".py",
   "mimetype": "text/x-python",
   "name": "python",
   "nbconvert_exporter": "python",
   "pygments_lexer": "ipython3",
   "version": "3.6.13"
  }
 },
 "nbformat": 4,
 "nbformat_minor": 4
}
